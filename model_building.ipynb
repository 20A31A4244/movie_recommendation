{
 "cells": [
  {
   "cell_type": "code",
   "execution_count": 1,
   "id": "4d17715d",
   "metadata": {},
   "outputs": [],
   "source": [
    "import numpy as np\n",
    "import pandas as pd"
   ]
  },
  {
   "cell_type": "code",
   "execution_count": 2,
   "id": "3666b2a8",
   "metadata": {},
   "outputs": [],
   "source": [
    "data = pd.read_csv(\"main_data.csv\")"
   ]
  },
  {
   "cell_type": "code",
   "execution_count": 3,
   "id": "a106cae8",
   "metadata": {
    "scrolled": true
   },
   "outputs": [
    {
     "data": {
      "text/html": [
       "<div>\n",
       "<style scoped>\n",
       "    .dataframe tbody tr th:only-of-type {\n",
       "        vertical-align: middle;\n",
       "    }\n",
       "\n",
       "    .dataframe tbody tr th {\n",
       "        vertical-align: top;\n",
       "    }\n",
       "\n",
       "    .dataframe thead th {\n",
       "        text-align: right;\n",
       "    }\n",
       "</style>\n",
       "<table border=\"1\" class=\"dataframe\">\n",
       "  <thead>\n",
       "    <tr style=\"text-align: right;\">\n",
       "      <th></th>\n",
       "      <th>director_name</th>\n",
       "      <th>actor_1_name</th>\n",
       "      <th>actor_2_name</th>\n",
       "      <th>actor_3_name</th>\n",
       "      <th>genres</th>\n",
       "      <th>movie_title</th>\n",
       "      <th>comb</th>\n",
       "    </tr>\n",
       "  </thead>\n",
       "  <tbody>\n",
       "    <tr>\n",
       "      <th>0</th>\n",
       "      <td>John Lasseter</td>\n",
       "      <td>Tom Hanks</td>\n",
       "      <td>Tim Allen</td>\n",
       "      <td>Don Rickles</td>\n",
       "      <td>Animation Comedy Family</td>\n",
       "      <td>toy story</td>\n",
       "      <td>Tom Hanks Tim Allen Don Rickles John Lasseter ...</td>\n",
       "    </tr>\n",
       "    <tr>\n",
       "      <th>1</th>\n",
       "      <td>Joe Johnston</td>\n",
       "      <td>Robin Williams</td>\n",
       "      <td>Jonathan Hyde</td>\n",
       "      <td>Kirsten Dunst</td>\n",
       "      <td>Adventure Fantasy Family</td>\n",
       "      <td>jumanji</td>\n",
       "      <td>Robin Williams Jonathan Hyde Kirsten Dunst Joe...</td>\n",
       "    </tr>\n",
       "    <tr>\n",
       "      <th>2</th>\n",
       "      <td>Howard Deutch</td>\n",
       "      <td>Walter Matthau</td>\n",
       "      <td>Jack Lemmon</td>\n",
       "      <td>Ann-Margret</td>\n",
       "      <td>Romance Comedy</td>\n",
       "      <td>grumpier old men</td>\n",
       "      <td>Walter Matthau Jack Lemmon Ann-Margret Howard ...</td>\n",
       "    </tr>\n",
       "    <tr>\n",
       "      <th>3</th>\n",
       "      <td>Forest Whitaker</td>\n",
       "      <td>Whitney Houston</td>\n",
       "      <td>Angela Bassett</td>\n",
       "      <td>Loretta Devine</td>\n",
       "      <td>Comedy Drama Romance</td>\n",
       "      <td>waiting to exhale</td>\n",
       "      <td>Whitney Houston Angela Bassett Loretta Devine ...</td>\n",
       "    </tr>\n",
       "    <tr>\n",
       "      <th>4</th>\n",
       "      <td>Charles Shyer</td>\n",
       "      <td>Steve Martin</td>\n",
       "      <td>Diane Keaton</td>\n",
       "      <td>Martin Short</td>\n",
       "      <td>Comedy</td>\n",
       "      <td>father of the bride part ii</td>\n",
       "      <td>Steve Martin Diane Keaton Martin Short Charles...</td>\n",
       "    </tr>\n",
       "  </tbody>\n",
       "</table>\n",
       "</div>"
      ],
      "text/plain": [
       "     director_name     actor_1_name    actor_2_name    actor_3_name  \\\n",
       "0    John Lasseter        Tom Hanks       Tim Allen     Don Rickles   \n",
       "1     Joe Johnston   Robin Williams   Jonathan Hyde   Kirsten Dunst   \n",
       "2    Howard Deutch   Walter Matthau     Jack Lemmon     Ann-Margret   \n",
       "3  Forest Whitaker  Whitney Houston  Angela Bassett  Loretta Devine   \n",
       "4    Charles Shyer     Steve Martin    Diane Keaton    Martin Short   \n",
       "\n",
       "                     genres                  movie_title  \\\n",
       "0   Animation Comedy Family                    toy story   \n",
       "1  Adventure Fantasy Family                      jumanji   \n",
       "2            Romance Comedy             grumpier old men   \n",
       "3      Comedy Drama Romance            waiting to exhale   \n",
       "4                    Comedy  father of the bride part ii   \n",
       "\n",
       "                                                comb  \n",
       "0  Tom Hanks Tim Allen Don Rickles John Lasseter ...  \n",
       "1  Robin Williams Jonathan Hyde Kirsten Dunst Joe...  \n",
       "2  Walter Matthau Jack Lemmon Ann-Margret Howard ...  \n",
       "3  Whitney Houston Angela Bassett Loretta Devine ...  \n",
       "4  Steve Martin Diane Keaton Martin Short Charles...  "
      ]
     },
     "execution_count": 3,
     "metadata": {},
     "output_type": "execute_result"
    }
   ],
   "source": [
    "data.head()"
   ]
  },
  {
   "cell_type": "code",
   "execution_count": 4,
   "id": "9f5ff179",
   "metadata": {},
   "outputs": [
    {
     "name": "stdout",
     "output_type": "stream",
     "text": [
      "<class 'pandas.core.frame.DataFrame'>\n",
      "RangeIndex: 25085 entries, 0 to 25084\n",
      "Data columns (total 7 columns):\n",
      " #   Column         Non-Null Count  Dtype \n",
      "---  ------         --------------  ----- \n",
      " 0   director_name  25085 non-null  object\n",
      " 1   actor_1_name   25085 non-null  object\n",
      " 2   actor_2_name   25085 non-null  object\n",
      " 3   actor_3_name   25085 non-null  object\n",
      " 4   genres         25085 non-null  object\n",
      " 5   movie_title    25085 non-null  object\n",
      " 6   comb           25085 non-null  object\n",
      "dtypes: object(7)\n",
      "memory usage: 1.3+ MB\n"
     ]
    }
   ],
   "source": [
    "data.info()"
   ]
  },
  {
   "cell_type": "code",
   "execution_count": 5,
   "id": "1d5cc5d0",
   "metadata": {},
   "outputs": [],
   "source": [
    "data['director_name'] = data['director_name'].map(lambda x: x.replace(\" \",\"\"))\n",
    "data['actor_1_name'] = data['actor_1_name'].map(lambda x: x.replace(\" \",\"\"))\n",
    "data['actor_2_name'] = data['actor_2_name'].map(lambda x: x.replace(\" \",\"\"))\n",
    "data['actor_3_name'] = data['actor_3_name'].map(lambda x: x.replace(\" \",\"\"))"
   ]
  },
  {
   "cell_type": "code",
   "execution_count": 6,
   "id": "c2ab0a6f",
   "metadata": {},
   "outputs": [
    {
     "data": {
      "text/html": [
       "<div>\n",
       "<style scoped>\n",
       "    .dataframe tbody tr th:only-of-type {\n",
       "        vertical-align: middle;\n",
       "    }\n",
       "\n",
       "    .dataframe tbody tr th {\n",
       "        vertical-align: top;\n",
       "    }\n",
       "\n",
       "    .dataframe thead th {\n",
       "        text-align: right;\n",
       "    }\n",
       "</style>\n",
       "<table border=\"1\" class=\"dataframe\">\n",
       "  <thead>\n",
       "    <tr style=\"text-align: right;\">\n",
       "      <th></th>\n",
       "      <th>director_name</th>\n",
       "      <th>actor_1_name</th>\n",
       "      <th>actor_2_name</th>\n",
       "      <th>actor_3_name</th>\n",
       "      <th>genres</th>\n",
       "      <th>movie_title</th>\n",
       "      <th>comb</th>\n",
       "    </tr>\n",
       "  </thead>\n",
       "  <tbody>\n",
       "    <tr>\n",
       "      <th>0</th>\n",
       "      <td>JohnLasseter</td>\n",
       "      <td>TomHanks</td>\n",
       "      <td>TimAllen</td>\n",
       "      <td>DonRickles</td>\n",
       "      <td>Animation Comedy Family</td>\n",
       "      <td>toy story</td>\n",
       "      <td>Tom Hanks Tim Allen Don Rickles John Lasseter ...</td>\n",
       "    </tr>\n",
       "    <tr>\n",
       "      <th>1</th>\n",
       "      <td>JoeJohnston</td>\n",
       "      <td>RobinWilliams</td>\n",
       "      <td>JonathanHyde</td>\n",
       "      <td>KirstenDunst</td>\n",
       "      <td>Adventure Fantasy Family</td>\n",
       "      <td>jumanji</td>\n",
       "      <td>Robin Williams Jonathan Hyde Kirsten Dunst Joe...</td>\n",
       "    </tr>\n",
       "    <tr>\n",
       "      <th>2</th>\n",
       "      <td>HowardDeutch</td>\n",
       "      <td>WalterMatthau</td>\n",
       "      <td>JackLemmon</td>\n",
       "      <td>Ann-Margret</td>\n",
       "      <td>Romance Comedy</td>\n",
       "      <td>grumpier old men</td>\n",
       "      <td>Walter Matthau Jack Lemmon Ann-Margret Howard ...</td>\n",
       "    </tr>\n",
       "    <tr>\n",
       "      <th>3</th>\n",
       "      <td>ForestWhitaker</td>\n",
       "      <td>WhitneyHouston</td>\n",
       "      <td>AngelaBassett</td>\n",
       "      <td>LorettaDevine</td>\n",
       "      <td>Comedy Drama Romance</td>\n",
       "      <td>waiting to exhale</td>\n",
       "      <td>Whitney Houston Angela Bassett Loretta Devine ...</td>\n",
       "    </tr>\n",
       "    <tr>\n",
       "      <th>4</th>\n",
       "      <td>CharlesShyer</td>\n",
       "      <td>SteveMartin</td>\n",
       "      <td>DianeKeaton</td>\n",
       "      <td>MartinShort</td>\n",
       "      <td>Comedy</td>\n",
       "      <td>father of the bride part ii</td>\n",
       "      <td>Steve Martin Diane Keaton Martin Short Charles...</td>\n",
       "    </tr>\n",
       "  </tbody>\n",
       "</table>\n",
       "</div>"
      ],
      "text/plain": [
       "    director_name    actor_1_name   actor_2_name   actor_3_name  \\\n",
       "0    JohnLasseter        TomHanks       TimAllen     DonRickles   \n",
       "1     JoeJohnston   RobinWilliams   JonathanHyde   KirstenDunst   \n",
       "2    HowardDeutch   WalterMatthau     JackLemmon    Ann-Margret   \n",
       "3  ForestWhitaker  WhitneyHouston  AngelaBassett  LorettaDevine   \n",
       "4    CharlesShyer     SteveMartin    DianeKeaton    MartinShort   \n",
       "\n",
       "                     genres                  movie_title  \\\n",
       "0   Animation Comedy Family                    toy story   \n",
       "1  Adventure Fantasy Family                      jumanji   \n",
       "2            Romance Comedy             grumpier old men   \n",
       "3      Comedy Drama Romance            waiting to exhale   \n",
       "4                    Comedy  father of the bride part ii   \n",
       "\n",
       "                                                comb  \n",
       "0  Tom Hanks Tim Allen Don Rickles John Lasseter ...  \n",
       "1  Robin Williams Jonathan Hyde Kirsten Dunst Joe...  \n",
       "2  Walter Matthau Jack Lemmon Ann-Margret Howard ...  \n",
       "3  Whitney Houston Angela Bassett Loretta Devine ...  \n",
       "4  Steve Martin Diane Keaton Martin Short Charles...  "
      ]
     },
     "execution_count": 6,
     "metadata": {},
     "output_type": "execute_result"
    }
   ],
   "source": [
    "data.head()"
   ]
  },
  {
   "cell_type": "code",
   "execution_count": 7,
   "id": "355547ac",
   "metadata": {},
   "outputs": [],
   "source": [
    "data['comb'] = data['movie_title'] + \" \" + data[\"genres\"] + \" \" + data[\"actor_1_name\"] + \" \" + data[\"actor_2_name\"] + \" \" + data[\"actor_3_name\"] + \" \" + data[\"director_name\"]"
   ]
  },
  {
   "cell_type": "code",
   "execution_count": 8,
   "id": "f1c36711",
   "metadata": {},
   "outputs": [
    {
     "data": {
      "text/html": [
       "<div>\n",
       "<style scoped>\n",
       "    .dataframe tbody tr th:only-of-type {\n",
       "        vertical-align: middle;\n",
       "    }\n",
       "\n",
       "    .dataframe tbody tr th {\n",
       "        vertical-align: top;\n",
       "    }\n",
       "\n",
       "    .dataframe thead th {\n",
       "        text-align: right;\n",
       "    }\n",
       "</style>\n",
       "<table border=\"1\" class=\"dataframe\">\n",
       "  <thead>\n",
       "    <tr style=\"text-align: right;\">\n",
       "      <th></th>\n",
       "      <th>director_name</th>\n",
       "      <th>actor_1_name</th>\n",
       "      <th>actor_2_name</th>\n",
       "      <th>actor_3_name</th>\n",
       "      <th>genres</th>\n",
       "      <th>movie_title</th>\n",
       "      <th>comb</th>\n",
       "    </tr>\n",
       "  </thead>\n",
       "  <tbody>\n",
       "    <tr>\n",
       "      <th>0</th>\n",
       "      <td>JohnLasseter</td>\n",
       "      <td>TomHanks</td>\n",
       "      <td>TimAllen</td>\n",
       "      <td>DonRickles</td>\n",
       "      <td>Animation Comedy Family</td>\n",
       "      <td>toy story</td>\n",
       "      <td>toy story Animation Comedy Family TomHanks Tim...</td>\n",
       "    </tr>\n",
       "    <tr>\n",
       "      <th>1</th>\n",
       "      <td>JoeJohnston</td>\n",
       "      <td>RobinWilliams</td>\n",
       "      <td>JonathanHyde</td>\n",
       "      <td>KirstenDunst</td>\n",
       "      <td>Adventure Fantasy Family</td>\n",
       "      <td>jumanji</td>\n",
       "      <td>jumanji Adventure Fantasy Family RobinWilliams...</td>\n",
       "    </tr>\n",
       "    <tr>\n",
       "      <th>2</th>\n",
       "      <td>HowardDeutch</td>\n",
       "      <td>WalterMatthau</td>\n",
       "      <td>JackLemmon</td>\n",
       "      <td>Ann-Margret</td>\n",
       "      <td>Romance Comedy</td>\n",
       "      <td>grumpier old men</td>\n",
       "      <td>grumpier old men Romance Comedy WalterMatthau ...</td>\n",
       "    </tr>\n",
       "    <tr>\n",
       "      <th>3</th>\n",
       "      <td>ForestWhitaker</td>\n",
       "      <td>WhitneyHouston</td>\n",
       "      <td>AngelaBassett</td>\n",
       "      <td>LorettaDevine</td>\n",
       "      <td>Comedy Drama Romance</td>\n",
       "      <td>waiting to exhale</td>\n",
       "      <td>waiting to exhale Comedy Drama Romance Whitney...</td>\n",
       "    </tr>\n",
       "    <tr>\n",
       "      <th>4</th>\n",
       "      <td>CharlesShyer</td>\n",
       "      <td>SteveMartin</td>\n",
       "      <td>DianeKeaton</td>\n",
       "      <td>MartinShort</td>\n",
       "      <td>Comedy</td>\n",
       "      <td>father of the bride part ii</td>\n",
       "      <td>father of the bride part ii Comedy SteveMartin...</td>\n",
       "    </tr>\n",
       "  </tbody>\n",
       "</table>\n",
       "</div>"
      ],
      "text/plain": [
       "    director_name    actor_1_name   actor_2_name   actor_3_name  \\\n",
       "0    JohnLasseter        TomHanks       TimAllen     DonRickles   \n",
       "1     JoeJohnston   RobinWilliams   JonathanHyde   KirstenDunst   \n",
       "2    HowardDeutch   WalterMatthau     JackLemmon    Ann-Margret   \n",
       "3  ForestWhitaker  WhitneyHouston  AngelaBassett  LorettaDevine   \n",
       "4    CharlesShyer     SteveMartin    DianeKeaton    MartinShort   \n",
       "\n",
       "                     genres                  movie_title  \\\n",
       "0   Animation Comedy Family                    toy story   \n",
       "1  Adventure Fantasy Family                      jumanji   \n",
       "2            Romance Comedy             grumpier old men   \n",
       "3      Comedy Drama Romance            waiting to exhale   \n",
       "4                    Comedy  father of the bride part ii   \n",
       "\n",
       "                                                comb  \n",
       "0  toy story Animation Comedy Family TomHanks Tim...  \n",
       "1  jumanji Adventure Fantasy Family RobinWilliams...  \n",
       "2  grumpier old men Romance Comedy WalterMatthau ...  \n",
       "3  waiting to exhale Comedy Drama Romance Whitney...  \n",
       "4  father of the bride part ii Comedy SteveMartin...  "
      ]
     },
     "execution_count": 8,
     "metadata": {},
     "output_type": "execute_result"
    }
   ],
   "source": [
    "data.head()"
   ]
  },
  {
   "cell_type": "code",
   "execution_count": 9,
   "id": "7da9c918",
   "metadata": {},
   "outputs": [],
   "source": [
    "import nltk"
   ]
  },
  {
   "cell_type": "code",
   "execution_count": 10,
   "id": "d467e525",
   "metadata": {},
   "outputs": [],
   "source": [
    "from nltk.stem.porter import PorterStemmer\n",
    "ps = PorterStemmer()"
   ]
  },
  {
   "cell_type": "code",
   "execution_count": 14,
   "id": "134bde3f",
   "metadata": {},
   "outputs": [],
   "source": [
    "#from sklearn.feature_extraction.text import TfidfVectorizer\n",
    "from sklearn.metrics.pairwise import cosine_similarity\n",
    "from sklearn.feature_extraction.text import CountVectorizer"
   ]
  },
  {
   "cell_type": "code",
   "execution_count": 15,
   "id": "29e7ba28",
   "metadata": {},
   "outputs": [],
   "source": [
    "cv = CountVectorizer(stop_words=\"english\")"
   ]
  },
  {
   "cell_type": "code",
   "execution_count": 16,
   "id": "e76aa14f",
   "metadata": {},
   "outputs": [],
   "source": [
    "vectors = cv.fit_transform(data['comb'])"
   ]
  },
  {
   "cell_type": "code",
   "execution_count": 17,
   "id": "6a0ff695",
   "metadata": {
    "scrolled": false
   },
   "outputs": [
    {
     "data": {
      "text/plain": [
       "array([[1.        , 0.        , 0.00567706, ..., 0.00650734, 0.00613639,\n",
       "        0.00573835],\n",
       "       [0.        , 1.        , 0.        , ..., 0.        , 0.00928489,\n",
       "        0.        ],\n",
       "       [0.00567706, 0.        , 1.        , ..., 0.00608363, 0.00573683,\n",
       "        0.0053647 ],\n",
       "       ...,\n",
       "       [0.00650734, 0.        , 0.00608363, ..., 1.        , 0.00657585,\n",
       "        0.0061493 ],\n",
       "       [0.00613639, 0.00928489, 0.00573683, ..., 0.00657585, 1.        ,\n",
       "        0.00579876],\n",
       "       [0.00573835, 0.        , 0.0053647 , ..., 0.0061493 , 0.00579876,\n",
       "        1.        ]])"
      ]
     },
     "execution_count": 17,
     "metadata": {},
     "output_type": "execute_result"
    }
   ],
   "source": [
    "similarity = cosine_similarity(vectors)"
   ]
  },
  {
   "cell_type": "code",
   "execution_count": 21,
   "id": "bc35c513",
   "metadata": {},
   "outputs": [
    {
     "data": {
      "text/plain": [
       "5875"
      ]
     },
     "execution_count": 21,
     "metadata": {},
     "output_type": "execute_result"
    }
   ],
   "source": [
    "data[data.movie_title=='the avengers'].index[0]"
   ]
  },
  {
   "cell_type": "code",
   "execution_count": 22,
   "id": "6bb0d737",
   "metadata": {},
   "outputs": [],
   "source": [
    "def recommend(movie):\n",
    "    movie_index = data[data.movie_title == movie].index[0]\n",
    "    distances = similarity[movie_index]\n",
    "    movies_list = sorted(list(enumerate(distances)),reverse=True,key=lambda x: x[1])[1:11]\n",
    "    \n",
    "    for i in movie_list:\n",
    "        print(data.iloc[i[0]].movie_title)"
   ]
  },
  {
   "cell_type": "code",
   "execution_count": 24,
   "id": "2020a6be",
   "metadata": {},
   "outputs": [
    {
     "ename": "NameError",
     "evalue": "name 'similarity' is not defined",
     "output_type": "error",
     "traceback": [
      "\u001b[1;31m---------------------------------------------------------------------------\u001b[0m",
      "\u001b[1;31mNameError\u001b[0m                                 Traceback (most recent call last)",
      "\u001b[1;32m~\\AppData\\Local\\Temp/ipykernel_10176/544097119.py\u001b[0m in \u001b[0;36m<module>\u001b[1;34m\u001b[0m\n\u001b[1;32m----> 1\u001b[1;33m \u001b[0mrecommend\u001b[0m\u001b[1;33m(\u001b[0m\u001b[1;34m'the avengers'\u001b[0m\u001b[1;33m)\u001b[0m\u001b[1;33m\u001b[0m\u001b[1;33m\u001b[0m\u001b[0m\n\u001b[0m",
      "\u001b[1;32m~\\AppData\\Local\\Temp/ipykernel_10176/189778663.py\u001b[0m in \u001b[0;36mrecommend\u001b[1;34m(movie)\u001b[0m\n\u001b[0;32m      1\u001b[0m \u001b[1;32mdef\u001b[0m \u001b[0mrecommend\u001b[0m\u001b[1;33m(\u001b[0m\u001b[0mmovie\u001b[0m\u001b[1;33m)\u001b[0m\u001b[1;33m:\u001b[0m\u001b[1;33m\u001b[0m\u001b[1;33m\u001b[0m\u001b[0m\n\u001b[0;32m      2\u001b[0m     \u001b[0mmovie_index\u001b[0m \u001b[1;33m=\u001b[0m \u001b[0mdata\u001b[0m\u001b[1;33m[\u001b[0m\u001b[0mdata\u001b[0m\u001b[1;33m.\u001b[0m\u001b[0mmovie_title\u001b[0m \u001b[1;33m==\u001b[0m \u001b[0mmovie\u001b[0m\u001b[1;33m]\u001b[0m\u001b[1;33m.\u001b[0m\u001b[0mindex\u001b[0m\u001b[1;33m[\u001b[0m\u001b[1;36m0\u001b[0m\u001b[1;33m]\u001b[0m\u001b[1;33m\u001b[0m\u001b[1;33m\u001b[0m\u001b[0m\n\u001b[1;32m----> 3\u001b[1;33m     \u001b[0mdistances\u001b[0m \u001b[1;33m=\u001b[0m \u001b[0msimilarity\u001b[0m\u001b[1;33m[\u001b[0m\u001b[0mmovie_index\u001b[0m\u001b[1;33m]\u001b[0m\u001b[1;33m\u001b[0m\u001b[1;33m\u001b[0m\u001b[0m\n\u001b[0m\u001b[0;32m      4\u001b[0m     \u001b[0mmovies_list\u001b[0m \u001b[1;33m=\u001b[0m \u001b[0msorted\u001b[0m\u001b[1;33m(\u001b[0m\u001b[0mlist\u001b[0m\u001b[1;33m(\u001b[0m\u001b[0menumerate\u001b[0m\u001b[1;33m(\u001b[0m\u001b[0mdistances\u001b[0m\u001b[1;33m)\u001b[0m\u001b[1;33m)\u001b[0m\u001b[1;33m,\u001b[0m\u001b[0mreverse\u001b[0m\u001b[1;33m=\u001b[0m\u001b[1;32mTrue\u001b[0m\u001b[1;33m,\u001b[0m\u001b[0mkey\u001b[0m\u001b[1;33m=\u001b[0m\u001b[1;32mlambda\u001b[0m \u001b[0mx\u001b[0m\u001b[1;33m:\u001b[0m \u001b[0mx\u001b[0m\u001b[1;33m[\u001b[0m\u001b[1;36m1\u001b[0m\u001b[1;33m]\u001b[0m\u001b[1;33m)\u001b[0m\u001b[1;33m[\u001b[0m\u001b[1;36m1\u001b[0m\u001b[1;33m:\u001b[0m\u001b[1;36m11\u001b[0m\u001b[1;33m]\u001b[0m\u001b[1;33m\u001b[0m\u001b[1;33m\u001b[0m\u001b[0m\n\u001b[0;32m      5\u001b[0m \u001b[1;33m\u001b[0m\u001b[0m\n",
      "\u001b[1;31mNameError\u001b[0m: name 'similarity' is not defined"
     ]
    }
   ],
   "source": [
    "recommend('the avengers')"
   ]
  },
  {
   "cell_type": "code",
   "execution_count": null,
   "id": "0031162d",
   "metadata": {},
   "outputs": [],
   "source": []
  }
 ],
 "metadata": {
  "kernelspec": {
   "display_name": "Python 3 (ipykernel)",
   "language": "python",
   "name": "python3"
  },
  "language_info": {
   "codemirror_mode": {
    "name": "ipython",
    "version": 3
   },
   "file_extension": ".py",
   "mimetype": "text/x-python",
   "name": "python",
   "nbconvert_exporter": "python",
   "pygments_lexer": "ipython3",
   "version": "3.9.7"
  }
 },
 "nbformat": 4,
 "nbformat_minor": 5
}
